{
  "nbformat": 4,
  "nbformat_minor": 0,
  "metadata": {
    "colab": {
      "provenance": [],
      "collapsed_sections": [],
      "toc_visible": true
    },
    "kernelspec": {
      "name": "python3",
      "display_name": "Python 3"
    },
    "language_info": {
      "name": "python"
    },
    "accelerator": "GPU"
  },
  "cells": [
    {
      "cell_type": "markdown",
      "source": [
        "PROBLEM STATEMENT:\n",
        "Build CNN Model for Classification Of Flowers\n"
      ],
      "metadata": {
        "id": "q4TzRZX2r_dr"
      }
    },
    {
      "cell_type": "markdown",
      "source": [
        "Mounting drive"
      ],
      "metadata": {
        "id": "D_WHxrLIkR_L"
      }
    },
    {
      "cell_type": "code",
      "execution_count": 1,
      "metadata": {
        "id": "Cq7DPXD8elBJ"
      },
      "outputs": [],
      "source": [
        "from google.colab import drive"
      ]
    },
    {
      "cell_type": "code",
      "source": [
        "from google.colab import drive\n",
        "drive.mount('/content/drive')"
      ],
      "metadata": {
        "colab": {
          "base_uri": "https://localhost:8080/"
        },
        "id": "XDKpmN60LJZG",
        "outputId": "04a6e147-02ca-411b-86c4-8748009cb705"
      },
      "execution_count": 2,
      "outputs": [
        {
          "output_type": "stream",
          "name": "stdout",
          "text": [
            "Mounted at /content/drive\n"
          ]
        }
      ]
    },
    {
      "cell_type": "markdown",
      "source": [
        "DATA AUGMENTATION"
      ],
      "metadata": {
        "id": "5wN_rXDokbcd"
      }
    },
    {
      "cell_type": "code",
      "source": [
        "from tensorflow.keras.preprocessing.image import ImageDataGenerator"
      ],
      "metadata": {
        "id": "RMRzqKlbiwB2"
      },
      "execution_count": 3,
      "outputs": []
    },
    {
      "cell_type": "code",
      "source": [
        "train_datagen = ImageDataGenerator(rescale=1./255,zoom_range=0.2,horizontal_flip=True,vertical_flip=False,validation_split=0.2)"
      ],
      "metadata": {
        "id": "d29x30R_i0HT"
      },
      "execution_count": 4,
      "outputs": []
    },
    {
      "cell_type": "code",
      "source": [
        "test_datagen = ImageDataGenerator(rescale=1./255,validation_split=0.2)"
      ],
      "metadata": {
        "id": "1FNxeHhAi3PJ"
      },
      "execution_count": 5,
      "outputs": []
    },
    {
      "cell_type": "code",
      "source": [
        "x_train=train_datagen.flow_from_directory(r\"/content/drive/MyDrive/Flowers-Dataset/flowers\",target_size=(64,64),class_mode='categorical',batch_size=100,subset = 'training')"
      ],
      "metadata": {
        "colab": {
          "base_uri": "https://localhost:8080/"
        },
        "id": "8F1vOiZSi6Va",
        "outputId": "1735d17f-5927-4143-a94d-52e25218aac2"
      },
      "execution_count": 6,
      "outputs": [
        {
          "output_type": "stream",
          "name": "stdout",
          "text": [
            "Found 3457 images belonging to 5 classes.\n"
          ]
        }
      ]
    },
    {
      "cell_type": "code",
      "source": [
        "x_test=test_datagen.flow_from_directory(r\"/content/drive/MyDrive/Flowers-Dataset/flowers\",target_size=(64,64),class_mode='categorical',batch_size=100,subset = 'validation')"
      ],
      "metadata": {
        "colab": {
          "base_uri": "https://localhost:8080/"
        },
        "id": "gLrABLZ8i-Q5",
        "outputId": "baf605b4-ec13-44a3-cff0-483697496fdd"
      },
      "execution_count": 7,
      "outputs": [
        {
          "output_type": "stream",
          "name": "stdout",
          "text": [
            "Found 860 images belonging to 5 classes.\n"
          ]
        }
      ]
    },
    {
      "cell_type": "code",
      "source": [
        "x_train.class_indices"
      ],
      "metadata": {
        "colab": {
          "base_uri": "https://localhost:8080/"
        },
        "id": "Lr5JmdZpmQEO",
        "outputId": "10038ac1-00ac-481f-9282-af1a0668fae7"
      },
      "execution_count": 8,
      "outputs": [
        {
          "output_type": "execute_result",
          "data": {
            "text/plain": [
              "{'daisy': 0, 'dandelion': 1, 'rose': 2, 'sunflower': 3, 'tulip': 4}"
            ]
          },
          "metadata": {},
          "execution_count": 8
        }
      ]
    },
    {
      "cell_type": "markdown",
      "source": [
        "CNN MODEL( Adding  Layers :Convolution,MaxPooling,Flatten,Dense-(Hidden\n",
        "Layers),Output)\n"
      ],
      "metadata": {
        "id": "mX5DF_kmko6h"
      }
    },
    {
      "cell_type": "code",
      "source": [
        "from tensorflow.keras.models import Sequential"
      ],
      "metadata": {
        "id": "hK1DY9ZdmUXg"
      },
      "execution_count": 9,
      "outputs": []
    },
    {
      "cell_type": "code",
      "source": [
        "from tensorflow.keras.layers import Dense,Convolution2D,MaxPooling2D,Flatten"
      ],
      "metadata": {
        "id": "uAAK1bxTmX18"
      },
      "execution_count": 10,
      "outputs": []
    },
    {
      "cell_type": "code",
      "source": [
        "model=Sequential()"
      ],
      "metadata": {
        "id": "Kq-1tMY-mbVm"
      },
      "execution_count": 11,
      "outputs": []
    },
    {
      "cell_type": "code",
      "source": [
        "model.add(Convolution2D(32,(3,3),input_shape=(64,64,3),activation='relu'))"
      ],
      "metadata": {
        "id": "vWCRsd0-me5Y"
      },
      "execution_count": 12,
      "outputs": []
    },
    {
      "cell_type": "code",
      "source": [
        "model.add(MaxPooling2D(pool_size=(2,2)))"
      ],
      "metadata": {
        "id": "yZuKfY0YmhpW"
      },
      "execution_count": 13,
      "outputs": []
    },
    {
      "cell_type": "code",
      "source": [
        "model.add(Flatten())"
      ],
      "metadata": {
        "id": "BGTvUZ00mkep"
      },
      "execution_count": 14,
      "outputs": []
    },
    {
      "cell_type": "code",
      "source": [
        "model.summary()"
      ],
      "metadata": {
        "colab": {
          "base_uri": "https://localhost:8080/"
        },
        "id": "JxhMoh46mnCm",
        "outputId": "5dad509d-982d-46d8-ca31-2101f8678108"
      },
      "execution_count": 15,
      "outputs": [
        {
          "output_type": "stream",
          "name": "stdout",
          "text": [
            "Model: \"sequential\"\n",
            "_________________________________________________________________\n",
            " Layer (type)                Output Shape              Param #   \n",
            "=================================================================\n",
            " conv2d (Conv2D)             (None, 62, 62, 32)        896       \n",
            "                                                                 \n",
            " max_pooling2d (MaxPooling2D  (None, 31, 31, 32)       0         \n",
            " )                                                               \n",
            "                                                                 \n",
            " flatten (Flatten)           (None, 30752)             0         \n",
            "                                                                 \n",
            "=================================================================\n",
            "Total params: 896\n",
            "Trainable params: 896\n",
            "Non-trainable params: 0\n",
            "_________________________________________________________________\n"
          ]
        }
      ]
    },
    {
      "cell_type": "code",
      "source": [
        "#hidden layers\n",
        "model.add(Dense(300,activation='relu'))\n",
        "model.add(Dense(150,activation='relu'))\n",
        "model.add(Dense(75,activation='relu'))\n",
        "model.add(Dense(5,activation='softmax'))#op layer"
      ],
      "metadata": {
        "id": "etl8MIwempwQ"
      },
      "execution_count": 16,
      "outputs": []
    },
    {
      "cell_type": "code",
      "source": [
        "model.compile(loss='categorical_crossentropy',optimizer='adam',metrics=['accuracy'])"
      ],
      "metadata": {
        "id": "GAWwWd1VmvNw"
      },
      "execution_count": 18,
      "outputs": []
    },
    {
      "cell_type": "markdown",
      "source": [
        "FIT THE MODEL"
      ],
      "metadata": {
        "id": "VowMrfXjp2Yd"
      }
    },
    {
      "cell_type": "code",
      "source": [
        "model.fit_generator(x_train,steps_per_epoch=len(x_train),validation_data=x_test,validation_steps=len(x_test),epochs=10)"
      ],
      "metadata": {
        "colab": {
          "base_uri": "https://localhost:8080/"
        },
        "id": "hjv_5i8lm8Lf",
        "outputId": "d5d94055-6944-45c7-99d0-974fa8cca7ad"
      },
      "execution_count": 19,
      "outputs": [
        {
          "output_type": "stream",
          "name": "stderr",
          "text": [
            "/usr/local/lib/python3.7/dist-packages/ipykernel_launcher.py:1: UserWarning: `Model.fit_generator` is deprecated and will be removed in a future version. Please use `Model.fit`, which supports generators.\n",
            "  \"\"\"Entry point for launching an IPython kernel.\n"
          ]
        },
        {
          "output_type": "stream",
          "name": "stdout",
          "text": [
            "Epoch 1/10\n",
            "35/35 [==============================] - 540s 15s/step - loss: 1.3555 - accuracy: 0.4087 - val_loss: 1.2931 - val_accuracy: 0.4884\n",
            "Epoch 2/10\n",
            "35/35 [==============================] - 18s 512ms/step - loss: 1.0937 - accuracy: 0.5733 - val_loss: 1.2284 - val_accuracy: 0.5081\n",
            "Epoch 3/10\n",
            "35/35 [==============================] - 17s 492ms/step - loss: 1.0136 - accuracy: 0.6069 - val_loss: 1.1106 - val_accuracy: 0.5698\n",
            "Epoch 4/10\n",
            "35/35 [==============================] - 18s 509ms/step - loss: 0.9429 - accuracy: 0.6312 - val_loss: 1.0596 - val_accuracy: 0.6070\n",
            "Epoch 5/10\n",
            "35/35 [==============================] - 17s 491ms/step - loss: 0.8886 - accuracy: 0.6587 - val_loss: 1.1208 - val_accuracy: 0.5826\n",
            "Epoch 6/10\n",
            "35/35 [==============================] - 17s 488ms/step - loss: 0.8567 - accuracy: 0.6691 - val_loss: 1.1426 - val_accuracy: 0.5860\n",
            "Epoch 7/10\n",
            "35/35 [==============================] - 17s 491ms/step - loss: 0.8383 - accuracy: 0.6789 - val_loss: 1.0249 - val_accuracy: 0.6291\n",
            "Epoch 8/10\n",
            "35/35 [==============================] - 18s 525ms/step - loss: 0.7582 - accuracy: 0.7102 - val_loss: 1.1002 - val_accuracy: 0.5965\n",
            "Epoch 9/10\n",
            "35/35 [==============================] - 17s 488ms/step - loss: 0.7141 - accuracy: 0.7292 - val_loss: 1.0417 - val_accuracy: 0.6372\n",
            "Epoch 10/10\n",
            "35/35 [==============================] - 17s 485ms/step - loss: 0.6756 - accuracy: 0.7495 - val_loss: 1.0116 - val_accuracy: 0.6488\n"
          ]
        },
        {
          "output_type": "execute_result",
          "data": {
            "text/plain": [
              "<keras.callbacks.History at 0x7f2af156d610>"
            ]
          },
          "metadata": {},
          "execution_count": 19
        }
      ]
    },
    {
      "cell_type": "markdown",
      "source": [
        "SAVING THE MODEL"
      ],
      "metadata": {
        "id": "CD0kDwt0lpYR"
      }
    },
    {
      "cell_type": "code",
      "source": [
        "model.save('flowers.h5')\n"
      ],
      "metadata": {
        "id": "EKq8Hzycm_MX"
      },
      "execution_count": 20,
      "outputs": []
    },
    {
      "cell_type": "markdown",
      "source": [
        "TESTING THE MODEL"
      ],
      "metadata": {
        "id": "h7fTHaEils-X"
      }
    },
    {
      "cell_type": "code",
      "source": [
        "\n",
        "import numpy as np\n",
        "from tensorflow.keras.preprocessing import image"
      ],
      "metadata": {
        "id": "2f48xca_lwa8"
      },
      "execution_count": 21,
      "outputs": []
    },
    {
      "cell_type": "code",
      "source": [
        "img = image.load_img('/content/drive/MyDrive/Flowers-Dataset/flowers/dandelion/10200780773_c6051a7d71_n.jpg' ,target_size=(64,64)) "
      ],
      "metadata": {
        "id": "DEwxk4_5l3tT"
      },
      "execution_count": 22,
      "outputs": []
    },
    {
      "cell_type": "code",
      "source": [
        "img"
      ],
      "metadata": {
        "colab": {
          "base_uri": "https://localhost:8080/",
          "height": 81
        },
        "id": "JIKEQukwmbfa",
        "outputId": "8045e2d9-01f0-4466-f7cb-b8556de1dca3"
      },
      "execution_count": 23,
      "outputs": [
        {
          "output_type": "execute_result",
          "data": {
            "text/plain": [
              "<PIL.Image.Image image mode=RGB size=64x64 at 0x7F2AE0176F50>"
            ],
            "image/png": "[encoded data removed]"
          },
          "metadata": {},
          "execution_count": 23
        }
      ]
    },
    {
      "cell_type": "code",
      "source": [
        "x=image.img_to_array(img)"
      ],
      "metadata": {
        "id": "jQBwaHQEsTnV"
      },
      "execution_count": 24,
      "outputs": []
    },
    {
      "cell_type": "code",
      "source": [
        "x"
      ],
      "metadata": {
        "colab": {
          "base_uri": "https://localhost:8080/"
        },
        "id": "1M6ehg1qsWvR",
        "outputId": "08e4e41f-9bc4-4adc-9052-d826291e60ca"
      },
      "execution_count": 25,
      "outputs": [
        {
          "output_type": "execute_result",
          "data": {
            "text/plain": [
              "array([[[ 73., 115.,   3.],\n",
              "        [ 75., 120.,   3.],\n",
              "        [ 74., 119.,   0.],\n",
              "        ...,\n",
              "        [118., 142.,  44.],\n",
              "        [135., 158.,  54.],\n",
              "        [136., 162.,  53.]],\n",
              "\n",
              "       [[ 75., 117.,   5.],\n",
              "        [ 78., 121.,   5.],\n",
              "        [ 82., 123.,   3.],\n",
              "        ...,\n",
              "        [118., 141.,  35.],\n",
              "        [132., 156.,  44.],\n",
              "        [134., 161.,  44.]],\n",
              "\n",
              "       [[ 80., 119.,  10.],\n",
              "        [ 86., 124.,  13.],\n",
              "        [ 88., 127.,  12.],\n",
              "        ...,\n",
              "        [119., 145.,  35.],\n",
              "        [130., 154.,  40.],\n",
              "        [133., 163.,  41.]],\n",
              "\n",
              "       ...,\n",
              "\n",
              "       [[117., 120.,  33.],\n",
              "        [113., 134.,  31.],\n",
              "        [114., 142.,  31.],\n",
              "        ...,\n",
              "        [114., 134.,  45.],\n",
              "        [109., 135.,  38.],\n",
              "        [ 98., 130.,  21.]],\n",
              "\n",
              "       [[118., 125.,  32.],\n",
              "        [113., 134.,  29.],\n",
              "        [113., 142.,  32.],\n",
              "        ...,\n",
              "        [113., 136.,  48.],\n",
              "        [106., 134.,  34.],\n",
              "        [ 98., 131.,  18.]],\n",
              "\n",
              "       [[117., 135.,  35.],\n",
              "        [109., 136.,  23.],\n",
              "        [118., 145.,  40.],\n",
              "        ...,\n",
              "        [110., 134.,  38.],\n",
              "        [104., 132.,  29.],\n",
              "        [100., 135.,  19.]]], dtype=float32)"
            ]
          },
          "metadata": {},
          "execution_count": 25
        }
      ]
    },
    {
      "cell_type": "code",
      "source": [
        "x=np.expand_dims(x,axis=0)\n",
        "x"
      ],
      "metadata": {
        "colab": {
          "base_uri": "https://localhost:8080/"
        },
        "id": "xMiyVxiEsfr2",
        "outputId": "224389b4-2639-490f-f6bd-c335c13bb399"
      },
      "execution_count": 26,
      "outputs": [
        {
          "output_type": "execute_result",
          "data": {
            "text/plain": [
              "array([[[[ 73., 115.,   3.],\n",
              "         [ 75., 120.,   3.],\n",
              "         [ 74., 119.,   0.],\n",
              "         ...,\n",
              "         [118., 142.,  44.],\n",
              "         [135., 158.,  54.],\n",
              "         [136., 162.,  53.]],\n",
              "\n",
              "        [[ 75., 117.,   5.],\n",
              "         [ 78., 121.,   5.],\n",
              "         [ 82., 123.,   3.],\n",
              "         ...,\n",
              "         [118., 141.,  35.],\n",
              "         [132., 156.,  44.],\n",
              "         [134., 161.,  44.]],\n",
              "\n",
              "        [[ 80., 119.,  10.],\n",
              "         [ 86., 124.,  13.],\n",
              "         [ 88., 127.,  12.],\n",
              "         ...,\n",
              "         [119., 145.,  35.],\n",
              "         [130., 154.,  40.],\n",
              "         [133., 163.,  41.]],\n",
              "\n",
              "        ...,\n",
              "\n",
              "        [[117., 120.,  33.],\n",
              "         [113., 134.,  31.],\n",
              "         [114., 142.,  31.],\n",
              "         ...,\n",
              "         [114., 134.,  45.],\n",
              "         [109., 135.,  38.],\n",
              "         [ 98., 130.,  21.]],\n",
              "\n",
              "        [[118., 125.,  32.],\n",
              "         [113., 134.,  29.],\n",
              "         [113., 142.,  32.],\n",
              "         ...,\n",
              "         [113., 136.,  48.],\n",
              "         [106., 134.,  34.],\n",
              "         [ 98., 131.,  18.]],\n",
              "\n",
              "        [[117., 135.,  35.],\n",
              "         [109., 136.,  23.],\n",
              "         [118., 145.,  40.],\n",
              "         ...,\n",
              "         [110., 134.,  38.],\n",
              "         [104., 132.,  29.],\n",
              "         [100., 135.,  19.]]]], dtype=float32)"
            ]
          },
          "metadata": {},
          "execution_count": 26
        }
      ]
    },
    {
      "cell_type": "code",
      "source": [
        "model.predict(x)"
      ],
      "metadata": {
        "id": "LCCdZGqEsiES",
        "colab": {
          "base_uri": "https://localhost:8080/"
        },
        "outputId": "35f6af43-b61a-46d4-f797-fc64d8c836de"
      },
      "execution_count": 27,
      "outputs": [
        {
          "output_type": "execute_result",
          "data": {
            "text/plain": [
              "array([[0.0000000e+00, 0.0000000e+00, 0.0000000e+00, 1.9213412e-21,\n",
              "        1.0000000e+00]], dtype=float32)"
            ]
          },
          "metadata": {},
          "execution_count": 27
        }
      ]
    },
    {
      "cell_type": "code",
      "source": [
        "x_train.class_indices"
      ],
      "metadata": {
        "colab": {
          "base_uri": "https://localhost:8080/"
        },
        "id": "-5zebpgIsn6b",
        "outputId": "2151088f-664e-437c-c1aa-86bf2eefcc46"
      },
      "execution_count": 28,
      "outputs": [
        {
          "output_type": "execute_result",
          "data": {
            "text/plain": [
              "{'daisy': 0, 'dandelion': 1, 'rose': 2, 'sunflower': 3, 'tulip': 4}"
            ]
          },
          "metadata": {},
          "execution_count": 28
        }
      ]
    },
    {
      "cell_type": "code",
      "source": [
        "op = ['daisy','dandelion','rose','sunflower','tulip']\n",
        "pred = np.argmax(model.predict(x))\n",
        "op[pred]"
      ],
      "metadata": {
        "colab": {
          "base_uri": "https://localhost:8080/",
          "height": 35
        },
        "id": "_z_y2MD_nw9k",
        "outputId": "46608e68-e035-4125-e746-4bef13b5a4d9"
      },
      "execution_count": 29,
      "outputs": [
        {
          "output_type": "execute_result",
          "data": {
            "text/plain": [
              "'tulip'"
            ],
            "application/vnd.google.colaboratory.intrinsic+json": {
              "type": "string"
            }
          },
          "metadata": {},
          "execution_count": 29
        }
      ]
    },
    {
      "cell_type": "code",
      "source": [
        "img = image.load_img('/content/drive/MyDrive/Flowers-Dataset/flowers/tulip/10094729603_eeca3f2cb6.jpg',target_size=(64,64))\n",
        "x = image.img_to_array(img)\n",
        "x = np.expand_dims(x,axis=0)\n",
        "pred = np.argmax(model.predict(x))\n",
        "op[pred]"
      ],
      "metadata": {
        "colab": {
          "base_uri": "https://localhost:8080/",
          "height": 35
        },
        "id": "icVTEUWHpYSy",
        "outputId": "107d4a8c-a702-4795-97fb-83c2b701d485"
      },
      "execution_count": 30,
      "outputs": [
        {
          "output_type": "execute_result",
          "data": {
            "text/plain": [
              "'tulip'"
            ],
            "application/vnd.google.colaboratory.intrinsic+json": {
              "type": "string"
            }
          },
          "metadata": {},
          "execution_count": 30
        }
      ]
    }
  ]
}