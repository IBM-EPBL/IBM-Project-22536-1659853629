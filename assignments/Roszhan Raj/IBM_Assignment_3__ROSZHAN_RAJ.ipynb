{
  "nbformat": 4,
  "nbformat_minor": 0,
  "metadata": {
    "colab": {
      "provenance": [],
      "collapsed_sections": []
    },
    "kernelspec": {
      "name": "python3",
      "display_name": "Python 3"
    },
    "language_info": {
      "name": "python"
    },
    "accelerator": "GPU"
  },
  "cells": [
    {
      "cell_type": "markdown",
      "source": [
        "PROBLEM STATEMENT:\n",
        "Build CNN Model for Classification Of Flowers\n"
      ],
      "metadata": {
        "id": "q4TzRZX2r_dr"
      }
    },
    {
      "cell_type": "markdown",
      "source": [
        "Mounting drive"
      ],
      "metadata": {
        "id": "D_WHxrLIkR_L"
      }
    },
    {
      "cell_type": "code",
      "source": [
        "from google.colab import drive\n",
        "drive.mount('/content/drive')"
      ],
      "metadata": {
        "colab": {
          "base_uri": "https://localhost:8080/"
        },
        "id": "XDKpmN60LJZG",
        "outputId": "363c900e-2a37-4c56-9060-3355e009f7f9"
      },
      "execution_count": 1,
      "outputs": [
        {
          "output_type": "stream",
          "name": "stdout",
          "text": [
            "Mounted at /content/drive\n"
          ]
        }
      ]
    },
    {
      "cell_type": "markdown",
      "source": [
        "DATA AUGMENTATION"
      ],
      "metadata": {
        "id": "5wN_rXDokbcd"
      }
    },
    {
      "cell_type": "code",
      "source": [
        "from tensorflow.keras.preprocessing.image import ImageDataGenerator"
      ],
      "metadata": {
        "id": "RMRzqKlbiwB2"
      },
      "execution_count": 2,
      "outputs": []
    },
    {
      "cell_type": "code",
      "source": [
        "train_datagen = ImageDataGenerator(rescale=1./255,zoom_range=0.2,horizontal_flip=True,vertical_flip=False,validation_split=0.2)"
      ],
      "metadata": {
        "id": "d29x30R_i0HT"
      },
      "execution_count": 3,
      "outputs": []
    },
    {
      "cell_type": "code",
      "source": [
        "test_datagen = ImageDataGenerator(rescale=1./255,validation_split=0.2)"
      ],
      "metadata": {
        "id": "1FNxeHhAi3PJ"
      },
      "execution_count": 4,
      "outputs": []
    },
    {
      "cell_type": "code",
      "source": [
        "x_train=train_datagen.flow_from_directory(r\"/content/drive/MyDrive/IBM assignment 3/flowers\",target_size=(64,64),class_mode='categorical',batch_size=100,subset = 'training')"
      ],
      "metadata": {
        "colab": {
          "base_uri": "https://localhost:8080/"
        },
        "id": "8F1vOiZSi6Va",
        "outputId": "6b905fb2-a895-42c7-d46e-aaf0963a7ae8"
      },
      "execution_count": 5,
      "outputs": [
        {
          "output_type": "stream",
          "name": "stdout",
          "text": [
            "Found 3503 images belonging to 5 classes.\n"
          ]
        }
      ]
    },
    {
      "cell_type": "code",
      "source": [
        "x_test=test_datagen.flow_from_directory(r\"/content/drive/MyDrive/IBM assignment 3/flowers\",target_size=(64,64),class_mode='categorical',batch_size=100,subset = 'validation')"
      ],
      "metadata": {
        "colab": {
          "base_uri": "https://localhost:8080/"
        },
        "id": "gLrABLZ8i-Q5",
        "outputId": "25e6b791-532f-499f-e5ba-22e167ab863e"
      },
      "execution_count": 6,
      "outputs": [
        {
          "output_type": "stream",
          "name": "stdout",
          "text": [
            "Found 872 images belonging to 5 classes.\n"
          ]
        }
      ]
    },
    {
      "cell_type": "code",
      "source": [
        "x_train.class_indices"
      ],
      "metadata": {
        "colab": {
          "base_uri": "https://localhost:8080/"
        },
        "id": "Lr5JmdZpmQEO",
        "outputId": "0c30d587-6841-4cf9-ef9b-a7dd0f457e74"
      },
      "execution_count": 9,
      "outputs": [
        {
          "output_type": "execute_result",
          "data": {
            "text/plain": [
              "{'daisy': 0, 'dandelion': 1, 'rose': 2, 'sunflower': 3, 'tulip': 4}"
            ]
          },
          "metadata": {},
          "execution_count": 9
        }
      ]
    },
    {
      "cell_type": "markdown",
      "source": [
        "CNN MODEL( Adding  Layers :Convolution,MaxPooling,Flatten,Dense-(Hidden\n",
        "Layers),Output)\n"
      ],
      "metadata": {
        "id": "mX5DF_kmko6h"
      }
    },
    {
      "cell_type": "code",
      "source": [
        "from tensorflow.keras.models import Sequential"
      ],
      "metadata": {
        "id": "hK1DY9ZdmUXg"
      },
      "execution_count": 7,
      "outputs": []
    },
    {
      "cell_type": "code",
      "source": [
        "from tensorflow.keras.layers import Dense,Convolution2D,MaxPooling2D,Flatten"
      ],
      "metadata": {
        "id": "uAAK1bxTmX18"
      },
      "execution_count": 8,
      "outputs": []
    },
    {
      "cell_type": "code",
      "source": [
        "model=Sequential()"
      ],
      "metadata": {
        "id": "Kq-1tMY-mbVm"
      },
      "execution_count": 10,
      "outputs": []
    },
    {
      "cell_type": "code",
      "source": [
        "model.add(Convolution2D(32,(3,3),input_shape=(64,64,3),activation='relu'))"
      ],
      "metadata": {
        "id": "vWCRsd0-me5Y"
      },
      "execution_count": 11,
      "outputs": []
    },
    {
      "cell_type": "code",
      "source": [
        "model.add(MaxPooling2D(pool_size=(2,2)))"
      ],
      "metadata": {
        "id": "yZuKfY0YmhpW"
      },
      "execution_count": 12,
      "outputs": []
    },
    {
      "cell_type": "code",
      "source": [
        "model.add(Flatten())"
      ],
      "metadata": {
        "id": "BGTvUZ00mkep"
      },
      "execution_count": 13,
      "outputs": []
    },
    {
      "cell_type": "code",
      "source": [
        "model.summary()"
      ],
      "metadata": {
        "colab": {
          "base_uri": "https://localhost:8080/"
        },
        "id": "JxhMoh46mnCm",
        "outputId": "fa1335f1-25d2-4de3-9075-161ba7b8f108"
      },
      "execution_count": 14,
      "outputs": [
        {
          "output_type": "stream",
          "name": "stdout",
          "text": [
            "Model: \"sequential\"\n",
            "_________________________________________________________________\n",
            " Layer (type)                Output Shape              Param #   \n",
            "=================================================================\n",
            " conv2d (Conv2D)             (None, 62, 62, 32)        896       \n",
            "                                                                 \n",
            " max_pooling2d (MaxPooling2D  (None, 31, 31, 32)       0         \n",
            " )                                                               \n",
            "                                                                 \n",
            " flatten (Flatten)           (None, 30752)             0         \n",
            "                                                                 \n",
            "=================================================================\n",
            "Total params: 896\n",
            "Trainable params: 896\n",
            "Non-trainable params: 0\n",
            "_________________________________________________________________\n"
          ]
        }
      ]
    },
    {
      "cell_type": "code",
      "source": [
        "#hidden layers\n",
        "model.add(Dense(300,activation='relu'))\n",
        "model.add(Dense(150,activation='relu'))\n",
        "model.add(Dense(75,activation='relu'))\n",
        "model.add(Dense(5,activation='softmax'))#op layer"
      ],
      "metadata": {
        "id": "etl8MIwempwQ"
      },
      "execution_count": 15,
      "outputs": []
    },
    {
      "cell_type": "code",
      "source": [
        "model.compile(loss='categorical_crossentropy',optimizer='adam',metrics=['accuracy'])"
      ],
      "metadata": {
        "id": "GAWwWd1VmvNw"
      },
      "execution_count": 16,
      "outputs": []
    },
    {
      "cell_type": "markdown",
      "source": [
        "FIT THE MODEL"
      ],
      "metadata": {
        "id": "VowMrfXjp2Yd"
      }
    },
    {
      "cell_type": "code",
      "source": [
        "model.fit_generator(x_train,steps_per_epoch=len(x_train),validation_data=x_test,validation_steps=len(x_test),epochs=10)"
      ],
      "metadata": {
        "colab": {
          "base_uri": "https://localhost:8080/"
        },
        "id": "hjv_5i8lm8Lf",
        "outputId": "36996a9c-64a9-40dd-f778-1138f8cafadf"
      },
      "execution_count": 17,
      "outputs": [
        {
          "output_type": "stream",
          "name": "stderr",
          "text": [
            "/usr/local/lib/python3.7/dist-packages/ipykernel_launcher.py:1: UserWarning: `Model.fit_generator` is deprecated and will be removed in a future version. Please use `Model.fit`, which supports generators.\n",
            "  \"\"\"Entry point for launching an IPython kernel.\n"
          ]
        },
        {
          "output_type": "stream",
          "name": "stdout",
          "text": [
            "Epoch 1/10\n",
            "36/36 [==============================] - 470s 13s/step - loss: 1.4513 - accuracy: 0.3908 - val_loss: 1.2657 - val_accuracy: 0.4782\n",
            "Epoch 2/10\n",
            "36/36 [==============================] - 17s 477ms/step - loss: 1.1574 - accuracy: 0.5344 - val_loss: 1.1854 - val_accuracy: 0.5482\n",
            "Epoch 3/10\n",
            "36/36 [==============================] - 21s 574ms/step - loss: 1.0840 - accuracy: 0.5712 - val_loss: 1.2353 - val_accuracy: 0.5126\n",
            "Epoch 4/10\n",
            "36/36 [==============================] - 18s 482ms/step - loss: 1.0093 - accuracy: 0.5958 - val_loss: 1.0953 - val_accuracy: 0.5654\n",
            "Epoch 5/10\n",
            "36/36 [==============================] - 17s 486ms/step - loss: 0.9547 - accuracy: 0.6280 - val_loss: 1.1978 - val_accuracy: 0.5585\n",
            "Epoch 6/10\n",
            "36/36 [==============================] - 18s 492ms/step - loss: 0.9132 - accuracy: 0.6474 - val_loss: 1.0435 - val_accuracy: 0.6009\n",
            "Epoch 7/10\n",
            "36/36 [==============================] - 19s 525ms/step - loss: 0.8841 - accuracy: 0.6566 - val_loss: 1.1237 - val_accuracy: 0.5573\n",
            "Epoch 8/10\n",
            "36/36 [==============================] - 17s 486ms/step - loss: 0.8625 - accuracy: 0.6634 - val_loss: 1.0356 - val_accuracy: 0.6204\n",
            "Epoch 9/10\n",
            "36/36 [==============================] - 17s 485ms/step - loss: 0.8279 - accuracy: 0.6871 - val_loss: 1.0691 - val_accuracy: 0.6181\n",
            "Epoch 10/10\n",
            "36/36 [==============================] - 19s 526ms/step - loss: 0.7800 - accuracy: 0.6951 - val_loss: 1.0292 - val_accuracy: 0.6089\n"
          ]
        },
        {
          "output_type": "execute_result",
          "data": {
            "text/plain": [
              "<keras.callbacks.History at 0x7fe6ccac6d50>"
            ]
          },
          "metadata": {},
          "execution_count": 17
        }
      ]
    },
    {
      "cell_type": "markdown",
      "source": [
        "SAVING THE MODEL"
      ],
      "metadata": {
        "id": "CD0kDwt0lpYR"
      }
    },
    {
      "cell_type": "code",
      "source": [
        "model.save('flowers.h5')\n"
      ],
      "metadata": {
        "id": "EKq8Hzycm_MX"
      },
      "execution_count": 18,
      "outputs": []
    },
    {
      "cell_type": "markdown",
      "source": [
        "TESTING THE MODEL"
      ],
      "metadata": {
        "id": "h7fTHaEils-X"
      }
    },
    {
      "cell_type": "code",
      "source": [
        "\n",
        "import numpy as np\n",
        "from tensorflow.keras.preprocessing import image"
      ],
      "metadata": {
        "id": "2f48xca_lwa8"
      },
      "execution_count": 19,
      "outputs": []
    },
    {
      "cell_type": "code",
      "source": [
        "img = image.load_img('/content/drive/MyDrive/IBM assignment 3/flowers/daisy/10140303196_b88d3d6cec.jpg' ,target_size=(64,64)) "
      ],
      "metadata": {
        "id": "DEwxk4_5l3tT"
      },
      "execution_count": 20,
      "outputs": []
    },
    {
      "cell_type": "code",
      "source": [
        "img"
      ],
      "metadata": {
        "colab": {
          "base_uri": "https://localhost:8080/",
          "height": 81
        },
        "id": "JIKEQukwmbfa",
        "outputId": "a18e67de-daf9-40b8-cc5d-5f9399bb8f26"
      },
      "execution_count": 21,
      "outputs": [
        {
          "output_type": "execute_result",
          "data": {
            "text/plain": [
              "<PIL.Image.Image image mode=RGB size=64x64 at 0x7FE6CC5EAE10>"
            ],
            "image/png": "[encoded data removed]"
          },
          "metadata": {},
          "execution_count": 21
        }
      ]
    },
    {
      "cell_type": "code",
      "source": [
        "x=image.img_to_array(img)"
      ],
      "metadata": {
        "id": "jQBwaHQEsTnV"
      },
      "execution_count": 22,
      "outputs": []
    },
    {
      "cell_type": "code",
      "source": [
        "x"
      ],
      "metadata": {
        "colab": {
          "base_uri": "https://localhost:8080/"
        },
        "id": "1M6ehg1qsWvR",
        "outputId": "3d4d7572-cb90-4383-a326-2cc3b3bd8174"
      },
      "execution_count": 23,
      "outputs": [
        {
          "output_type": "execute_result",
          "data": {
            "text/plain": [
              "array([[[221., 224., 231.],\n",
              "        [208., 211., 218.],\n",
              "        [214., 219., 225.],\n",
              "        ...,\n",
              "        [ 15.,  24.,  19.],\n",
              "        [ 12.,  16.,  17.],\n",
              "        [ 14.,  13.,  18.]],\n",
              "\n",
              "       [[228., 231., 240.],\n",
              "        [220., 221., 226.],\n",
              "        [222., 216., 226.],\n",
              "        ...,\n",
              "        [ 27.,  36.,  33.],\n",
              "        [ 19.,  17.,  20.],\n",
              "        [  4.,   2.,   7.]],\n",
              "\n",
              "       [[223., 224., 229.],\n",
              "        [234., 239., 245.],\n",
              "        [228., 233., 239.],\n",
              "        ...,\n",
              "        [ 34.,  32.,  37.],\n",
              "        [ 10.,  18.,  20.],\n",
              "        [ 11.,  10.,  16.]],\n",
              "\n",
              "       ...,\n",
              "\n",
              "       [[182., 177., 183.],\n",
              "        [179., 178., 184.],\n",
              "        [185., 186., 190.],\n",
              "        ...,\n",
              "        [152., 143., 136.],\n",
              "        [143., 131., 119.],\n",
              "        [176., 167., 158.]],\n",
              "\n",
              "       [[174., 178., 181.],\n",
              "        [169., 168., 173.],\n",
              "        [199., 196., 203.],\n",
              "        ...,\n",
              "        [149., 140., 131.],\n",
              "        [136., 131., 109.],\n",
              "        [182., 171., 165.]],\n",
              "\n",
              "       [[225., 230., 236.],\n",
              "        [229., 232., 239.],\n",
              "        [229., 232., 239.],\n",
              "        ...,\n",
              "        [149., 141., 128.],\n",
              "        [144., 140., 111.],\n",
              "        [182., 174., 161.]]], dtype=float32)"
            ]
          },
          "metadata": {},
          "execution_count": 23
        }
      ]
    },
    {
      "cell_type": "code",
      "source": [
        "x=np.expand_dims(x,axis=0)\n",
        "x"
      ],
      "metadata": {
        "colab": {
          "base_uri": "https://localhost:8080/"
        },
        "id": "xMiyVxiEsfr2",
        "outputId": "33352ce2-ce39-4988-f07d-8579d0c32f6e"
      },
      "execution_count": 24,
      "outputs": [
        {
          "output_type": "execute_result",
          "data": {
            "text/plain": [
              "array([[[[221., 224., 231.],\n",
              "         [208., 211., 218.],\n",
              "         [214., 219., 225.],\n",
              "         ...,\n",
              "         [ 15.,  24.,  19.],\n",
              "         [ 12.,  16.,  17.],\n",
              "         [ 14.,  13.,  18.]],\n",
              "\n",
              "        [[228., 231., 240.],\n",
              "         [220., 221., 226.],\n",
              "         [222., 216., 226.],\n",
              "         ...,\n",
              "         [ 27.,  36.,  33.],\n",
              "         [ 19.,  17.,  20.],\n",
              "         [  4.,   2.,   7.]],\n",
              "\n",
              "        [[223., 224., 229.],\n",
              "         [234., 239., 245.],\n",
              "         [228., 233., 239.],\n",
              "         ...,\n",
              "         [ 34.,  32.,  37.],\n",
              "         [ 10.,  18.,  20.],\n",
              "         [ 11.,  10.,  16.]],\n",
              "\n",
              "        ...,\n",
              "\n",
              "        [[182., 177., 183.],\n",
              "         [179., 178., 184.],\n",
              "         [185., 186., 190.],\n",
              "         ...,\n",
              "         [152., 143., 136.],\n",
              "         [143., 131., 119.],\n",
              "         [176., 167., 158.]],\n",
              "\n",
              "        [[174., 178., 181.],\n",
              "         [169., 168., 173.],\n",
              "         [199., 196., 203.],\n",
              "         ...,\n",
              "         [149., 140., 131.],\n",
              "         [136., 131., 109.],\n",
              "         [182., 171., 165.]],\n",
              "\n",
              "        [[225., 230., 236.],\n",
              "         [229., 232., 239.],\n",
              "         [229., 232., 239.],\n",
              "         ...,\n",
              "         [149., 141., 128.],\n",
              "         [144., 140., 111.],\n",
              "         [182., 174., 161.]]]], dtype=float32)"
            ]
          },
          "metadata": {},
          "execution_count": 24
        }
      ]
    },
    {
      "cell_type": "code",
      "source": [
        "model.predict(x)"
      ],
      "metadata": {
        "id": "LCCdZGqEsiES",
        "colab": {
          "base_uri": "https://localhost:8080/"
        },
        "outputId": "0af239a9-e010-4d06-dc2a-140a421c74ae"
      },
      "execution_count": 25,
      "outputs": [
        {
          "output_type": "execute_result",
          "data": {
            "text/plain": [
              "array([[7.816458e-17, 0.000000e+00, 0.000000e+00, 1.000000e+00,\n",
              "        0.000000e+00]], dtype=float32)"
            ]
          },
          "metadata": {},
          "execution_count": 25
        }
      ]
    },
    {
      "cell_type": "code",
      "source": [
        "x_train.class_indices"
      ],
      "metadata": {
        "colab": {
          "base_uri": "https://localhost:8080/"
        },
        "id": "-5zebpgIsn6b",
        "outputId": "82108fe4-f286-4a30-c90c-d40c98e1a725"
      },
      "execution_count": 26,
      "outputs": [
        {
          "output_type": "execute_result",
          "data": {
            "text/plain": [
              "{'daisy': 0, 'dandelion': 1, 'rose': 2, 'sunflower': 3, 'tulip': 4}"
            ]
          },
          "metadata": {},
          "execution_count": 26
        }
      ]
    },
    {
      "cell_type": "code",
      "source": [
        "op = ['daisy','dandelion','rose','sunflower','tulip']\n",
        "pred = np.argmax(model.predict(x))\n",
        "op[pred]"
      ],
      "metadata": {
        "colab": {
          "base_uri": "https://localhost:8080/",
          "height": 35
        },
        "id": "_z_y2MD_nw9k",
        "outputId": "d9d93101-eb99-4ca2-b5a1-ebc370dfb884"
      },
      "execution_count": 27,
      "outputs": [
        {
          "output_type": "execute_result",
          "data": {
            "text/plain": [
              "'sunflower'"
            ],
            "application/vnd.google.colaboratory.intrinsic+json": {
              "type": "string"
            }
          },
          "metadata": {},
          "execution_count": 27
        }
      ]
    },
    {
      "cell_type": "code",
      "source": [
        "img = image.load_img('/content/drive/MyDrive/IBM assignment 3/flowers/dandelion/10294487385_92a0676c7d_m.jpg',target_size=(64,64))\n",
        "x = image.img_to_array(img)\n",
        "x = np.expand_dims(x,axis=0)\n",
        "pred = np.argmax(model.predict(x))\n",
        "op[pred]"
      ],
      "metadata": {
        "colab": {
          "base_uri": "https://localhost:8080/",
          "height": 35
        },
        "id": "icVTEUWHpYSy",
        "outputId": "fac2d153-531f-415e-820e-81bb4a6f151f"
      },
      "execution_count": 28,
      "outputs": [
        {
          "output_type": "execute_result",
          "data": {
            "text/plain": [
              "'sunflower'"
            ],
            "application/vnd.google.colaboratory.intrinsic+json": {
              "type": "string"
            }
          },
          "metadata": {},
          "execution_count": 28
        }
      ]
    }
  ]
}