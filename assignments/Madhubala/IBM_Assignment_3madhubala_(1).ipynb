{
  "nbformat": 4,
  "nbformat_minor": 0,
  "metadata": {
    "colab": {
      "provenance": [],
      "collapsed_sections": []
    },
    "kernelspec": {
      "name": "python3",
      "display_name": "Python 3"
    },
    "language_info": {
      "name": "python"
    },
    "accelerator": "GPU"
  },
  "cells": [
    {
      "cell_type": "markdown",
      "source": [
        "PROBLEM STATEMENT:\n",
        "Build CNN Model for Classification Of Flowers\n"
      ],
      "metadata": {
        "id": "q4TzRZX2r_dr"
      }
    },
    {
      "cell_type": "markdown",
      "source": [
        "Mounting drive"
      ],
      "metadata": {
        "id": "D_WHxrLIkR_L"
      }
    },
    {
      "cell_type": "code",
      "execution_count": 1,
      "metadata": {
        "id": "Cq7DPXD8elBJ"
      },
      "outputs": [],
      "source": [
        "from google.colab import drive"
      ]
    },
    {
      "cell_type": "code",
      "source": [
        "from google.colab import drive\n",
        "drive.mount('/content/drive')"
      ],
      "metadata": {
        "colab": {
          "base_uri": "https://localhost:8080/"
        },
        "id": "XDKpmN60LJZG",
        "outputId": "ec0d85dd-60fa-4687-8e3d-9ec3e78c392a"
      },
      "execution_count": 2,
      "outputs": [
        {
          "output_type": "stream",
          "name": "stdout",
          "text": [
            "Mounted at /content/drive\n"
          ]
        }
      ]
    },
    {
      "cell_type": "markdown",
      "source": [
        "DATA AUGMENTATION"
      ],
      "metadata": {
        "id": "5wN_rXDokbcd"
      }
    },
    {
      "cell_type": "code",
      "source": [
        "from tensorflow.keras.preprocessing.image import ImageDataGenerator"
      ],
      "metadata": {
        "id": "RMRzqKlbiwB2"
      },
      "execution_count": 3,
      "outputs": []
    },
    {
      "cell_type": "code",
      "source": [
        "train_datagen = ImageDataGenerator(rescale=1./255,zoom_range=0.2,horizontal_flip=True,vertical_flip=False,validation_split=0.2)"
      ],
      "metadata": {
        "id": "d29x30R_i0HT"
      },
      "execution_count": 4,
      "outputs": []
    },
    {
      "cell_type": "code",
      "source": [
        "test_datagen = ImageDataGenerator(rescale=1./255,validation_split=0.2)"
      ],
      "metadata": {
        "id": "1FNxeHhAi3PJ"
      },
      "execution_count": 5,
      "outputs": []
    },
    {
      "cell_type": "code",
      "source": [
        "x_train=train_datagen.flow_from_directory(r\"/content/drive/MyDrive/Flowers-Dataset/flowers\",target_size=(64,64),class_mode='categorical',batch_size=100,subset = 'training')"
      ],
      "metadata": {
        "colab": {
          "base_uri": "https://localhost:8080/"
        },
        "id": "8F1vOiZSi6Va",
        "outputId": "b05aaa6e-fab4-4237-b68e-5c18c6b7f5a0"
      },
      "execution_count": 6,
      "outputs": [
        {
          "output_type": "stream",
          "name": "stdout",
          "text": [
            "Found 3457 images belonging to 5 classes.\n"
          ]
        }
      ]
    },
    {
      "cell_type": "markdown",
      "source": [],
      "metadata": {
        "id": "-C33E3uN2Nk3"
      }
    },
    {
      "cell_type": "code",
      "source": [
        "x_test=test_datagen.flow_from_directory(r\"/content/drive/MyDrive/Flowers-Dataset/flowers\",target_size=(64,64),class_mode='categorical',batch_size=100,subset = 'validation')"
      ],
      "metadata": {
        "colab": {
          "base_uri": "https://localhost:8080/"
        },
        "id": "gLrABLZ8i-Q5",
        "outputId": "3ed19973-125f-4006-bc63-bd34a5d3a230"
      },
      "execution_count": 7,
      "outputs": [
        {
          "output_type": "stream",
          "name": "stdout",
          "text": [
            "Found 860 images belonging to 5 classes.\n"
          ]
        }
      ]
    },
    {
      "cell_type": "code",
      "source": [
        "x_train.class_indices"
      ],
      "metadata": {
        "colab": {
          "base_uri": "https://localhost:8080/"
        },
        "id": "Lr5JmdZpmQEO",
        "outputId": "227f428e-cbee-48ef-e1d7-0bcfa2ad694f"
      },
      "execution_count": 8,
      "outputs": [
        {
          "output_type": "execute_result",
          "data": {
            "text/plain": [
              "{'daisy': 0, 'dandelion': 1, 'rose': 2, 'sunflower': 3, 'tulip': 4}"
            ]
          },
          "metadata": {},
          "execution_count": 8
        }
      ]
    },
    {
      "cell_type": "markdown",
      "source": [
        "CNN MODEL( Adding  Layers :Convolution,MaxPooling,Flatten,Dense-(Hidden\n",
        "Layers),Output)\n"
      ],
      "metadata": {
        "id": "mX5DF_kmko6h"
      }
    },
    {
      "cell_type": "code",
      "source": [
        "from tensorflow.keras.models import Sequential"
      ],
      "metadata": {
        "id": "hK1DY9ZdmUXg"
      },
      "execution_count": 9,
      "outputs": []
    },
    {
      "cell_type": "code",
      "source": [
        "from tensorflow.keras.layers import Dense,Convolution2D,MaxPooling2D,Flatten"
      ],
      "metadata": {
        "id": "uAAK1bxTmX18"
      },
      "execution_count": 10,
      "outputs": []
    },
    {
      "cell_type": "code",
      "source": [
        "model=Sequential()"
      ],
      "metadata": {
        "id": "Kq-1tMY-mbVm"
      },
      "execution_count": 11,
      "outputs": []
    },
    {
      "cell_type": "code",
      "source": [
        "model.add(Convolution2D(32,(3,3),input_shape=(64,64,3),activation='relu'))"
      ],
      "metadata": {
        "id": "vWCRsd0-me5Y"
      },
      "execution_count": 12,
      "outputs": []
    },
    {
      "cell_type": "code",
      "source": [
        "model.add(MaxPooling2D(pool_size=(2,2)))"
      ],
      "metadata": {
        "id": "yZuKfY0YmhpW"
      },
      "execution_count": 13,
      "outputs": []
    },
    {
      "cell_type": "code",
      "source": [
        "model.add(Flatten())"
      ],
      "metadata": {
        "id": "BGTvUZ00mkep"
      },
      "execution_count": 14,
      "outputs": []
    },
    {
      "cell_type": "code",
      "source": [
        "model.summary()"
      ],
      "metadata": {
        "colab": {
          "base_uri": "https://localhost:8080/"
        },
        "id": "JxhMoh46mnCm",
        "outputId": "f3fa8750-4dd5-4f91-e552-f6ee744b5b4a"
      },
      "execution_count": 28,
      "outputs": [
        {
          "output_type": "stream",
          "name": "stdout",
          "text": [
            "Model: \"sequential\"\n",
            "_________________________________________________________________\n",
            " Layer (type)                Output Shape              Param #   \n",
            "=================================================================\n",
            " conv2d (Conv2D)             (None, 62, 62, 32)        896       \n",
            "                                                                 \n",
            " max_pooling2d (MaxPooling2D  (None, 31, 31, 32)       0         \n",
            " )                                                               \n",
            "                                                                 \n",
            " flatten (Flatten)           (None, 30752)             0         \n",
            "                                                                 \n",
            " dense (Dense)               (None, 300)               9225900   \n",
            "                                                                 \n",
            " dense_1 (Dense)             (None, 150)               45150     \n",
            "                                                                 \n",
            " dense_2 (Dense)             (None, 75)                11325     \n",
            "                                                                 \n",
            " dense_3 (Dense)             (None, 5)                 380       \n",
            "                                                                 \n",
            "=================================================================\n",
            "Total params: 9,283,651\n",
            "Trainable params: 9,283,651\n",
            "Non-trainable params: 0\n",
            "_________________________________________________________________\n"
          ]
        }
      ]
    },
    {
      "cell_type": "code",
      "source": [
        "#hidden layers\n",
        "model.add(Dense(300,activation='relu'))\n",
        "model.add(Dense(150,activation='relu'))\n",
        "model.add(Dense(75,activation='relu'))\n",
        "model.add(Dense(5,activation='softmax'))#op layer"
      ],
      "metadata": {
        "id": "etl8MIwempwQ"
      },
      "execution_count": 29,
      "outputs": []
    },
    {
      "cell_type": "code",
      "source": [
        "model.compile(loss='categorical_crossentropy',optimizer='adam',metrics=['accuracy'])"
      ],
      "metadata": {
        "id": "GAWwWd1VmvNw"
      },
      "execution_count": 30,
      "outputs": []
    },
    {
      "cell_type": "markdown",
      "source": [
        "FIT THE MODEL"
      ],
      "metadata": {
        "id": "VowMrfXjp2Yd"
      }
    },
    {
      "cell_type": "code",
      "source": [
        "model.fit_generator(x_train,steps_per_epoch=len(x_train),validation_data=x_test,validation_steps=len(x_test),epochs=10)"
      ],
      "metadata": {
        "colab": {
          "base_uri": "https://localhost:8080/"
        },
        "id": "hjv_5i8lm8Lf",
        "outputId": "03d5551c-0364-4b66-ab06-55e408eeea77"
      },
      "execution_count": 18,
      "outputs": [
        {
          "metadata": {
            "tags": null
          },
          "name": "stderr",
          "output_type": "stream",
          "text": [
            "/usr/local/lib/python3.7/dist-packages/ipykernel_launcher.py:1: UserWarning: `Model.fit_generator` is deprecated and will be removed in a future version. Please use `Model.fit`, which supports generators.\n",
            "  \"\"\"Entry point for launching an IPython kernel.\n"
          ]
        },
        {
          "output_type": "stream",
          "name": "stdout",
          "text": [
            "Epoch 1/10\n",
            "35/35 [==============================] - 2201s 63s/step - loss: 1.5348 - accuracy: 0.3555 - val_loss: 1.2523 - val_accuracy: 0.4733\n",
            "Epoch 2/10\n",
            "35/35 [==============================] - 18s 515ms/step - loss: 1.1627 - accuracy: 0.5189 - val_loss: 1.3043 - val_accuracy: 0.4721\n",
            "Epoch 3/10\n",
            "35/35 [==============================] - 18s 526ms/step - loss: 1.0715 - accuracy: 0.5722 - val_loss: 1.2312 - val_accuracy: 0.5221\n",
            "Epoch 4/10\n",
            "35/35 [==============================] - 19s 548ms/step - loss: 1.0133 - accuracy: 0.5962 - val_loss: 1.1853 - val_accuracy: 0.5163\n",
            "Epoch 5/10\n",
            "35/35 [==============================] - 18s 511ms/step - loss: 0.9701 - accuracy: 0.6240 - val_loss: 1.1690 - val_accuracy: 0.5314\n",
            "Epoch 6/10\n",
            "35/35 [==============================] - 18s 517ms/step - loss: 0.9247 - accuracy: 0.6370 - val_loss: 1.1683 - val_accuracy: 0.5488\n",
            "Epoch 7/10\n",
            "35/35 [==============================] - 18s 514ms/step - loss: 0.9126 - accuracy: 0.6477 - val_loss: 1.0549 - val_accuracy: 0.6023\n",
            "Epoch 8/10\n",
            "35/35 [==============================] - 18s 510ms/step - loss: 0.8448 - accuracy: 0.6752 - val_loss: 1.0673 - val_accuracy: 0.5988\n",
            "Epoch 9/10\n",
            "35/35 [==============================] - 18s 514ms/step - loss: 0.8065 - accuracy: 0.6989 - val_loss: 1.0719 - val_accuracy: 0.6047\n",
            "Epoch 10/10\n",
            "35/35 [==============================] - 18s 524ms/step - loss: 0.8021 - accuracy: 0.6951 - val_loss: 1.1092 - val_accuracy: 0.5884\n"
          ]
        },
        {
          "output_type": "execute_result",
          "data": {
            "text/plain": [
              "<keras.callbacks.History at 0x7f0fb0b83b50>"
            ]
          },
          "metadata": {},
          "execution_count": 18
        }
      ]
    },
    {
      "cell_type": "markdown",
      "source": [
        "SAVING THE MODEL"
      ],
      "metadata": {
        "id": "CD0kDwt0lpYR"
      }
    },
    {
      "cell_type": "code",
      "source": [
        "model.save('flowers.h5')\n"
      ],
      "metadata": {
        "id": "EKq8Hzycm_MX"
      },
      "execution_count": 19,
      "outputs": []
    },
    {
      "cell_type": "markdown",
      "source": [
        "TESTING THE MODEL"
      ],
      "metadata": {
        "id": "h7fTHaEils-X"
      }
    },
    {
      "cell_type": "code",
      "source": [
        "\n",
        "import numpy as np\n",
        "from tensorflow.keras.preprocessing import image"
      ],
      "metadata": {
        "id": "2f48xca_lwa8"
      },
      "execution_count": 20,
      "outputs": []
    },
    {
      "cell_type": "code",
      "source": [
        "img = image.load_img('/content/drive/MyDrive/Flowers-Dataset/flowers/daisy/10172636503_21bededa75_n.jpg' ,target_size=(64,64)) "
      ],
      "metadata": {
        "id": "DEwxk4_5l3tT"
      },
      "execution_count": 21,
      "outputs": []
    },
    {
      "cell_type": "code",
      "source": [
        "img"
      ],
      "metadata": {
        "colab": {
          "base_uri": "https://localhost:8080/",
          "height": 81
        },
        "id": "JIKEQukwmbfa",
        "outputId": "9f0dd956-9c43-4028-9a61-4d9cc1e93449"
      },
      "execution_count": 22,
      "outputs": [
        {
          "output_type": "execute_result",
          "data": {
            "text/plain": [
              "<PIL.Image.Image image mode=RGB size=64x64 at 0x7F0FB06F1A50>"
            ],
            "image/png": "[encoded data removed]"
          },
          "metadata": {},
          "execution_count": 22
        }
      ]
    },
    {
      "cell_type": "code",
      "source": [
        "x=image.img_to_array(img)"
      ],
      "metadata": {
        "id": "jQBwaHQEsTnV"
      },
      "execution_count": 23,
      "outputs": []
    },
    {
      "cell_type": "code",
      "source": [
        "x"
      ],
      "metadata": {
        "colab": {
          "base_uri": "https://localhost:8080/"
        },
        "id": "1M6ehg1qsWvR",
        "outputId": "b77e1604-83ea-49c2-8759-f08c770bcfd9"
      },
      "execution_count": 24,
      "outputs": [
        {
          "output_type": "execute_result",
          "data": {
            "text/plain": [
              "array([[[ 23.,  29.,  25.],\n",
              "        [ 19.,  20.,  25.],\n",
              "        [ 43.,  38.,  42.],\n",
              "        ...,\n",
              "        [ 20.,  12.,  23.],\n",
              "        [ 20.,  17.,  24.],\n",
              "        [ 21.,  15.,  25.]],\n",
              "\n",
              "       [[ 25.,  31.,  27.],\n",
              "        [ 22.,  24.,  23.],\n",
              "        [ 52.,  48.,  49.],\n",
              "        ...,\n",
              "        [ 22.,  14.,  25.],\n",
              "        [ 20.,  15.,  22.],\n",
              "        [ 22.,  14.,  25.]],\n",
              "\n",
              "       [[ 16.,  15.,  21.],\n",
              "        [ 24.,  30.,  28.],\n",
              "        [ 45.,  45.,  47.],\n",
              "        ...,\n",
              "        [ 20.,  12.,  23.],\n",
              "        [ 20.,  19.,  27.],\n",
              "        [ 23.,  15.,  26.]],\n",
              "\n",
              "       ...,\n",
              "\n",
              "       [[ 22.,  19.,  28.],\n",
              "        [ 16.,  15.,  20.],\n",
              "        [  9.,   6.,  13.],\n",
              "        ...,\n",
              "        [ 28.,  38.,  30.],\n",
              "        [ 31.,  34.,  25.],\n",
              "        [ 28.,  30.,  25.]],\n",
              "\n",
              "       [[ 23.,  13.,  24.],\n",
              "        [181., 181., 181.],\n",
              "        [ 28.,  26.,  29.],\n",
              "        ...,\n",
              "        [ 27.,  28.,  23.],\n",
              "        [ 26.,  43.,  33.],\n",
              "        [ 34.,  48.,  33.]],\n",
              "\n",
              "       [[ 21.,  18.,  27.],\n",
              "        [ 25.,  22.,  31.],\n",
              "        [ 26.,  23.,  32.],\n",
              "        ...,\n",
              "        [ 28.,  21.,  28.],\n",
              "        [ 25.,  24.,  20.],\n",
              "        [ 32.,  37.,  30.]]], dtype=float32)"
            ]
          },
          "metadata": {},
          "execution_count": 24
        }
      ]
    },
    {
      "cell_type": "code",
      "source": [
        "x=np.expand_dims(x,axis=0)\n",
        "x"
      ],
      "metadata": {
        "colab": {
          "base_uri": "https://localhost:8080/"
        },
        "id": "xMiyVxiEsfr2",
        "outputId": "c091592f-5cf8-4124-f9e5-224f7f853eb4"
      },
      "execution_count": 25,
      "outputs": [
        {
          "output_type": "execute_result",
          "data": {
            "text/plain": [
              "array([[[[ 23.,  29.,  25.],\n",
              "         [ 19.,  20.,  25.],\n",
              "         [ 43.,  38.,  42.],\n",
              "         ...,\n",
              "         [ 20.,  12.,  23.],\n",
              "         [ 20.,  17.,  24.],\n",
              "         [ 21.,  15.,  25.]],\n",
              "\n",
              "        [[ 25.,  31.,  27.],\n",
              "         [ 22.,  24.,  23.],\n",
              "         [ 52.,  48.,  49.],\n",
              "         ...,\n",
              "         [ 22.,  14.,  25.],\n",
              "         [ 20.,  15.,  22.],\n",
              "         [ 22.,  14.,  25.]],\n",
              "\n",
              "        [[ 16.,  15.,  21.],\n",
              "         [ 24.,  30.,  28.],\n",
              "         [ 45.,  45.,  47.],\n",
              "         ...,\n",
              "         [ 20.,  12.,  23.],\n",
              "         [ 20.,  19.,  27.],\n",
              "         [ 23.,  15.,  26.]],\n",
              "\n",
              "        ...,\n",
              "\n",
              "        [[ 22.,  19.,  28.],\n",
              "         [ 16.,  15.,  20.],\n",
              "         [  9.,   6.,  13.],\n",
              "         ...,\n",
              "         [ 28.,  38.,  30.],\n",
              "         [ 31.,  34.,  25.],\n",
              "         [ 28.,  30.,  25.]],\n",
              "\n",
              "        [[ 23.,  13.,  24.],\n",
              "         [181., 181., 181.],\n",
              "         [ 28.,  26.,  29.],\n",
              "         ...,\n",
              "         [ 27.,  28.,  23.],\n",
              "         [ 26.,  43.,  33.],\n",
              "         [ 34.,  48.,  33.]],\n",
              "\n",
              "        [[ 21.,  18.,  27.],\n",
              "         [ 25.,  22.,  31.],\n",
              "         [ 26.,  23.,  32.],\n",
              "         ...,\n",
              "         [ 28.,  21.,  28.],\n",
              "         [ 25.,  24.,  20.],\n",
              "         [ 32.,  37.,  30.]]]], dtype=float32)"
            ]
          },
          "metadata": {},
          "execution_count": 25
        }
      ]
    },
    {
      "cell_type": "code",
      "source": [
        "model.predict(x)"
      ],
      "metadata": {
        "id": "LCCdZGqEsiES",
        "colab": {
          "base_uri": "https://localhost:8080/"
        },
        "outputId": "9397db9a-5be7-4c4c-afb8-7ad04337c933"
      },
      "execution_count": 26,
      "outputs": [
        {
          "output_type": "execute_result",
          "data": {
            "text/plain": [
              "array([[0., 0., 0., 0., 1.]], dtype=float32)"
            ]
          },
          "metadata": {},
          "execution_count": 26
        }
      ]
    },
    {
      "cell_type": "code",
      "source": [
        "x_train.class_indices"
      ],
      "metadata": {
        "colab": {
          "base_uri": "https://localhost:8080/"
        },
        "id": "-5zebpgIsn6b",
        "outputId": "34c59063-d77e-4553-b621-f87da37d64aa"
      },
      "execution_count": 27,
      "outputs": [
        {
          "output_type": "execute_result",
          "data": {
            "text/plain": [
              "{'daisy': 0, 'dandelion': 1, 'rose': 2, 'sunflower': 3, 'tulip': 4}"
            ]
          },
          "metadata": {},
          "execution_count": 27
        }
      ]
    },
    {
      "cell_type": "code",
      "source": [
        "op = ['daisy','dandelion','rose','sunflower','tulip']\n",
        "pred = np.argmax(model.predict(x))\n",
        "op[pred]"
      ],
      "metadata": {
        "colab": {
          "base_uri": "https://localhost:8080/",
          "height": 35
        },
        "id": "_z_y2MD_nw9k",
        "outputId": "66462e72-1def-4cee-fa14-4404ae1fb600"
      },
      "execution_count": 31,
      "outputs": [
        {
          "output_type": "execute_result",
          "data": {
            "text/plain": [
              "'rose'"
            ],
            "application/vnd.google.colaboratory.intrinsic+json": {
              "type": "string"
            }
          },
          "metadata": {},
          "execution_count": 31
        }
      ]
    },
    {
      "cell_type": "code",
      "source": [
        "img = image.load_img('/content/drive/MyDrive/Flowers-Dataset/flowers/sunflower/10386702973_e74a34c806_n.jpg',target_size=(64,64))\n",
        "x = image.img_to_array(img)\n",
        "x = np.expand_dims(x,axis=0)\n",
        "pred = np.argmax(model.predict(x))\n",
        "op[pred]"
      ],
      "metadata": {
        "colab": {
          "base_uri": "https://localhost:8080/",
          "height": 35
        },
        "id": "icVTEUWHpYSy",
        "outputId": "64c4eaa8-ea11-45f1-aa11-508591ab46b8"
      },
      "execution_count": 32,
      "outputs": [
        {
          "output_type": "execute_result",
          "data": {
            "text/plain": [
              "'rose'"
            ],
            "application/vnd.google.colaboratory.intrinsic+json": {
              "type": "string"
            }
          },
          "metadata": {},
          "execution_count": 32
        }
      ]
    }
  ]
}