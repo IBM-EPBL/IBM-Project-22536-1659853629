{
  "nbformat": 4,
  "nbformat_minor": 0,
  "metadata": {
    "colab": {
      "provenance": []
    },
    "kernelspec": {
      "name": "python3",
      "display_name": "Python 3"
    },
    "language_info": {
      "name": "python"
    }
  },
  "cells": [
    {
      "cell_type": "markdown",
      "source": [
        "**FLASK APPLICATION**"
      ],
      "metadata": {
        "id": "ss4jBMOrlzQd"
      }
    },
    {
      "cell_type": "markdown",
      "source": [
        "**BUILDING A PYTHON CODE**"
      ],
      "metadata": {
        "id": "mbk8UICUs6Ba"
      }
    },
    {
      "cell_type": "markdown",
      "source": [
        "IMPORTING LIBRARIES"
      ],
      "metadata": {
        "id": "LEEE-_Mkl6XS"
      }
    },
    {
      "cell_type": "code",
      "execution_count": null,
      "metadata": {
        "id": "jRaPP8w9JzOx"
      },
      "outputs": [],
      "source": [
        "from flask import Flask,render_template,request\n",
        "import os\n",
        "import numpy as np \n",
        "from tensorflow.keras.models import load_model\n",
        "from tensorflow.keras.preprocessing import image\n",
        "import requests"
      ]
    },
    {
      "cell_type": "code",
      "source": [
        "from tensorflow.keras.models import load_model\n",
        "from keras.preprocessing import image\n",
        "from flask import Flask,render_template,request"
      ],
      "metadata": {
        "id": "vYAJvczpLOfm"
      },
      "execution_count": null,
      "outputs": []
    },
    {
      "cell_type": "code",
      "source": [
        "import os\n",
        "import numpy as np\n",
        "from tensorflow.keras.models import load_model\n",
        "from tensorflow.keras.preprocessing import image\n",
        "import requests"
      ],
      "metadata": {
        "id": "NXCg_jbMLUgJ"
      },
      "execution_count": null,
      "outputs": []
    },
    {
      "cell_type": "markdown",
      "source": [
        "LOADING THE MODEL"
      ],
      "metadata": {
        "id": "Vxd5mpDal_c-"
      }
    },
    {
      "cell_type": "code",
      "source": [
        "app= Flask(__name__,template_folder=\"templates\")\n",
        "from tensorflow import keras\n",
        "model = keras.models.load_model('/content/drive/MyDrive/IBM/Dataset/nutrition (1).h5')\n",
        "print(\"Loaded model from disk\")\n",
        "@app.route('/')\n",
        "def home():\n",
        "    return render_template('home.html')\n",
        "@app.route('/image1',methods=['GET','POST'])\n",
        "def image1():\n",
        "    return render_template(\"image.html\")"
      ],
      "metadata": {
        "colab": {
          "base_uri": "https://localhost:8080/"
        },
        "id": "KS93244XLXoj",
        "outputId": "15b3df51-399c-4c0d-f75a-e03d06c0cb95"
      },
      "execution_count": 27,
      "outputs": [
        {
          "output_type": "stream",
          "name": "stdout",
          "text": [
            "Loaded model from disk\n"
          ]
        }
      ]
    },
    {
      "cell_type": "markdown",
      "source": [
        "**ROUTING THE HTML PAGES**"
      ],
      "metadata": {
        "id": "SotoLVLyqMmi"
      }
    },
    {
      "cell_type": "markdown",
      "source": [
        "PREDICTING THE RESULTS"
      ],
      "metadata": {
        "id": "SwUXIArqnNOS"
      }
    },
    {
      "cell_type": "code",
      "source": [
        "@app.route('/predict',methods=['GET','POST'])\n",
        "def launch():\n",
        "    if request.method=='POST':\n",
        "        f=request.files['file']\n",
        "        basepath=os.path.dirname('__file__')\n",
        "        filepath=os.path.join(basepath,\"uploads\",f.filename)\n",
        "        f.save(filepath)\n",
        "        \n",
        "        img=image.load_img(filepath,target_size=(64,64))\n",
        "        x=image.img_to_array(img)\n",
        "        x=np.expand_dims(x,axis=0)\n",
        "        \n",
        "        predict_x=classifier.predict(x)\n",
        "        classes_x=np.argmax(predict_x,axis = -1)\n",
        "        classes_x\n",
        "        index=['APPLES', 'BANANA', 'ORANGE','PINEAPPLE','WATERMELON']\n",
        "        result=str(index[classes_x[0]])\n",
        "        print(result)\n",
        "        result=nutrition(result)\n",
        "        print(result)\n",
        "        return render_template(\"0.html\",showcase=(result),showcase1=(x))"
      ],
      "metadata": {
        "id": "l9qllNr6Lfhu"
      },
      "execution_count": 28,
      "outputs": []
    },
    {
      "cell_type": "markdown",
      "source": [
        "**API INTEGRATION**"
      ],
      "metadata": {
        "id": "hfiOtyZenI9P"
      }
    },
    {
      "cell_type": "code",
      "source": [
        "import requests\n",
        "def nutrition(index):\n",
        "       url = \"https://calorieninjas.p.rapidapi.com/v1/nutrition\"\n",
        "       querystring = {\"query\":\"nutrition\"}\n",
        "\n",
        "       headers = {\"X-RapidAPI-Key\": \"ada8c86bf8msh76809a9cfc88120p1c3eb2jsnf9f947715710\",\n",
        "\t                   \"X-RapidAPI-Host\": \"calorieninjas.p.rapidapi.com\"}\n",
        "       response = requests.request(\"GET\", url, headers=headers, params=querystring)\n",
        "       print(response.text)\n",
        "       return response.json()['items']"
      ],
      "metadata": {
        "id": "6lahF1gMi0oa"
      },
      "execution_count": 25,
      "outputs": []
    },
    {
      "cell_type": "markdown",
      "source": [
        "**RUNNING THE APPLICATION**"
      ],
      "metadata": {
        "id": "JFYXoHRUtNF-"
      }
    },
    {
      "cell_type": "code",
      "source": [
        "if __name__ == \"__main__\":\n",
        "     app.run(debug=False)"
      ],
      "metadata": {
        "colab": {
          "base_uri": "https://localhost:8080/"
        },
        "id": "T6EHROTtLlYq",
        "outputId": "95211871-933d-45c1-f005-d9a38fecebae"
      },
      "execution_count": 26,
      "outputs": [
        {
          "output_type": "stream",
          "name": "stdout",
          "text": [
            " * Serving Flask app \"__main__\" (lazy loading)\n",
            " * Environment: production\n",
            "\u001b[31m   WARNING: This is a development server. Do not use it in a production deployment.\u001b[0m\n",
            "\u001b[2m   Use a production WSGI server instead.\u001b[0m\n",
            " * Debug mode: off\n"
          ]
        }
      ]
    }
  ]
}