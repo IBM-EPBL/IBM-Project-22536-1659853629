{
  "nbformat": 4,
  "nbformat_minor": 0,
  "metadata": {
    "colab": {
      "provenance": []
    },
    "kernelspec": {
      "name": "python3",
      "display_name": "Python 3"
    },
    "language_info": {
      "name": "python"
    }
  },
  "cells": [
    {
      "cell_type": "markdown",
      "source": [
        "**IMPORT LIBRARY**"
      ],
      "metadata": {
        "id": "-XuKIt94jpeZ"
      }
    },
    {
      "cell_type": "code",
      "execution_count": 3,
      "metadata": {
        "id": "gH8rr0GOWNW3"
      },
      "outputs": [],
      "source": [
        "from keras.models import Sequential\n",
        "from keras.layers import Dense\n",
        "from keras.layers import Convolution2D\n",
        "from keras.layers import MaxPooling2D\n",
        "from keras.layers import Flatten"
      ]
    },
    {
      "cell_type": "markdown",
      "source": [
        "**IMAGE AUGMENTATION**"
      ],
      "metadata": {
        "id": "jGYUIa4Ojoai"
      }
    },
    {
      "cell_type": "code",
      "source": [
        "from keras.preprocessing.image import ImageDataGenerator"
      ],
      "metadata": {
        "id": "zzPf2ARjWSJA"
      },
      "execution_count": 4,
      "outputs": []
    },
    {
      "cell_type": "markdown",
      "source": [
        "TESTING AND TRAINING"
      ],
      "metadata": {
        "id": "BG9PD9Yuj_at"
      }
    },
    {
      "cell_type": "code",
      "source": [
        "train_datagen = ImageDataGenerator(rescale=1./255,shear_range=0.2,zoom_range=0.2,horizontal_flip=True,vertical_flip=True)\n"
      ],
      "metadata": {
        "id": "ylNj5ZP8WUgr"
      },
      "execution_count": 5,
      "outputs": []
    },
    {
      "cell_type": "code",
      "source": [
        "test_datagen = ImageDataGenerator(rescale=1./255)"
      ],
      "metadata": {
        "id": "_ID2OMKDWWQD"
      },
      "execution_count": 6,
      "outputs": []
    },
    {
      "cell_type": "code",
      "source": [
        "x_train = train_datagen.flow_from_directory(\"/content/drive/MyDrive/IBM/Dataset/TRAIN_SET\",target_size=(64,64),batch_size=32,class_mode=\"binary\")"
      ],
      "metadata": {
        "id": "V1nps20oWXzn",
        "colab": {
          "base_uri": "https://localhost:8080/"
        },
        "outputId": "1bb65e31-e769-4f91-e27f-71370fe434e1"
      },
      "execution_count": 7,
      "outputs": [
        {
          "output_type": "stream",
          "name": "stdout",
          "text": [
            "Found 4184 images belonging to 5 classes.\n"
          ]
        }
      ]
    },
    {
      "cell_type": "code",
      "source": [
        "x_test = test_datagen.flow_from_directory(\"/content/drive/MyDrive/IBM/Dataset/TEST_SET\",target_size=(64,64),batch_size=32,class_mode=\"binary\")"
      ],
      "metadata": {
        "id": "xuKCRHAKWfJr",
        "colab": {
          "base_uri": "https://localhost:8080/"
        },
        "outputId": "15bb420f-c9ed-4dda-c54c-733672215199"
      },
      "execution_count": 9,
      "outputs": [
        {
          "output_type": "stream",
          "name": "stdout",
          "text": [
            "Found 939 images belonging to 5 classes.\n"
          ]
        }
      ]
    },
    {
      "cell_type": "code",
      "source": [
        "x_train.class_indices"
      ],
      "metadata": {
        "id": "hHLfHnuZWhgJ",
        "colab": {
          "base_uri": "https://localhost:8080/"
        },
        "outputId": "8243fca0-3996-476f-cbf6-5e6019103b73"
      },
      "execution_count": 10,
      "outputs": [
        {
          "output_type": "execute_result",
          "data": {
            "text/plain": [
              "{'APPLES': 0, 'BANANA': 1, 'ORANGE': 2, 'PINEAPPLE': 3, 'WATERMELON': 4}"
            ]
          },
          "metadata": {},
          "execution_count": 10
        }
      ]
    },
    {
      "cell_type": "code",
      "source": [
        "\n",
        "print(x_test.class_indices)"
      ],
      "metadata": {
        "id": "Kd9NnnNiWiOn",
        "colab": {
          "base_uri": "https://localhost:8080/"
        },
        "outputId": "8dc15ad0-9bda-4093-b8cb-c141b827648e"
      },
      "execution_count": 11,
      "outputs": [
        {
          "output_type": "stream",
          "name": "stdout",
          "text": [
            "{'APPLES': 0, 'BANANA': 1, 'ORANGE': 2, 'PINEAPPLE': 3, 'WATERMELON': 4}\n"
          ]
        }
      ]
    },
    {
      "cell_type": "code",
      "source": [
        "from collections import Counter as c\n",
        "c(x_train .labels)"
      ],
      "metadata": {
        "id": "zHwSx3fiWoGu",
        "colab": {
          "base_uri": "https://localhost:8080/"
        },
        "outputId": "ffe92872-bf70-4280-9de8-a432a60c87a0"
      },
      "execution_count": 12,
      "outputs": [
        {
          "output_type": "execute_result",
          "data": {
            "text/plain": [
              "Counter({0: 995, 1: 1354, 2: 1039, 3: 321, 4: 475})"
            ]
          },
          "metadata": {},
          "execution_count": 12
        }
      ]
    },
    {
      "cell_type": "code",
      "source": [],
      "metadata": {
        "id": "BjuMXcmqkNk6"
      },
      "execution_count": null,
      "outputs": []
    },
    {
      "cell_type": "markdown",
      "source": [
        "MODEL INITIALIZATION"
      ],
      "metadata": {
        "id": "4slrxDp0kLMF"
      }
    },
    {
      "cell_type": "markdown",
      "source": [
        "PERFORMING THE FOLLOWING:\n",
        "1. Adding the convolution layer\n",
        "2. Adding maxpooling layer\n",
        "3. Second Maxpooling snf convolution layers\n",
        "4. Flattening of layers\n",
        "5. Adding Dense layer\n",
        "6. hidden layers and output layers"
      ],
      "metadata": {
        "id": "kHrZ8saMkl3B"
      }
    },
    {
      "cell_type": "code",
      "source": [
        "model = Sequential()"
      ],
      "metadata": {
        "id": "E6QimWKEWsWq"
      },
      "execution_count": 13,
      "outputs": []
    },
    {
      "cell_type": "code",
      "source": [
        "model.add(Convolution2D(32,(3,3),input_shape=(64,64,3),activation=\"relu\"))"
      ],
      "metadata": {
        "id": "2g_P3cXbWz6p"
      },
      "execution_count": 14,
      "outputs": []
    },
    {
      "cell_type": "code",
      "source": [
        "model.add(MaxPooling2D(pool_size=(2,2)))"
      ],
      "metadata": {
        "id": "ymcGNBkOW71v"
      },
      "execution_count": 15,
      "outputs": []
    },
    {
      "cell_type": "code",
      "source": [
        "model.add(Convolution2D(32,(3,3),activation='relu'))\n",
        "model.add(MaxPooling2D(pool_size=(2,2)))"
      ],
      "metadata": {
        "id": "TgiwHesmXC7r"
      },
      "execution_count": 16,
      "outputs": []
    },
    {
      "cell_type": "code",
      "source": [
        "model.add(Flatten())\n",
        "model.add(Dense(units=128,activation='relu'))\n",
        "model.add(Dense(units=5,activation='softmax'))"
      ],
      "metadata": {
        "id": "8-5SS0FvXIlM"
      },
      "execution_count": 17,
      "outputs": []
    },
    {
      "cell_type": "code",
      "source": [
        "model.add(Flatten())\n",
        "model.summary()"
      ],
      "metadata": {
        "id": "ZNAceoMyXK-7",
        "colab": {
          "base_uri": "https://localhost:8080/"
        },
        "outputId": "780cfb49-2328-432a-e64f-0edc5ef5b7c4"
      },
      "execution_count": 18,
      "outputs": [
        {
          "output_type": "stream",
          "name": "stdout",
          "text": [
            "Model: \"sequential\"\n",
            "_________________________________________________________________\n",
            " Layer (type)                Output Shape              Param #   \n",
            "=================================================================\n",
            " conv2d (Conv2D)             (None, 62, 62, 32)        896       \n",
            "                                                                 \n",
            " max_pooling2d (MaxPooling2D  (None, 31, 31, 32)       0         \n",
            " )                                                               \n",
            "                                                                 \n",
            " conv2d_1 (Conv2D)           (None, 29, 29, 32)        9248      \n",
            "                                                                 \n",
            " max_pooling2d_1 (MaxPooling  (None, 14, 14, 32)       0         \n",
            " 2D)                                                             \n",
            "                                                                 \n",
            " flatten (Flatten)           (None, 6272)              0         \n",
            "                                                                 \n",
            " dense (Dense)               (None, 128)               802944    \n",
            "                                                                 \n",
            " dense_1 (Dense)             (None, 5)                 645       \n",
            "                                                                 \n",
            " flatten_1 (Flatten)         (None, 5)                 0         \n",
            "                                                                 \n",
            "=================================================================\n",
            "Total params: 813,733\n",
            "Trainable params: 813,733\n",
            "Non-trainable params: 0\n",
            "_________________________________________________________________\n"
          ]
        }
      ]
    },
    {
      "cell_type": "markdown",
      "source": [
        "OUTPUT LAYER"
      ],
      "metadata": {
        "id": "j4Goi703kW5G"
      }
    },
    {
      "cell_type": "code",
      "source": [
        "model.add(Dense(units=300,kernel_initializer=\"random_uniform\",activation=\"relu\"))\n",
        "model.add(Dense(units=200,kernel_initializer=\"random_uniform\",activation=\"relu\"))\n",
        "model.add(Dense(units=4,kernel_initializer=\"random_uniform\",activation=\"softmax\"))\n",
        "len(x_train)\n",
        "129"
      ],
      "metadata": {
        "id": "0r09Ys0GXOnR",
        "colab": {
          "base_uri": "https://localhost:8080/"
        },
        "outputId": "00d42256-701e-4582-a536-e9d9f588e453"
      },
      "execution_count": 19,
      "outputs": [
        {
          "output_type": "execute_result",
          "data": {
            "text/plain": [
              "129"
            ]
          },
          "metadata": {},
          "execution_count": 19
        }
      ]
    },
    {
      "cell_type": "code",
      "source": [],
      "metadata": {
        "id": "tdA9p_mqld71"
      },
      "execution_count": null,
      "outputs": []
    },
    {
      "cell_type": "markdown",
      "source": [
        "ANN"
      ],
      "metadata": {
        "id": "gsuaQ1wKlcLl"
      }
    },
    {
      "cell_type": "code",
      "source": [
        "model.add(Dense(units=128,activation=\"relu\",kernel_initializer=\"random_uniform\"))\n",
        "model.add(Dense(units=1,activation=\"sigmoid\",kernel_initializer=\"random_uniform\"))"
      ],
      "metadata": {
        "id": "crMIf29WXRHv"
      },
      "execution_count": null,
      "outputs": []
    },
    {
      "cell_type": "code",
      "source": [
        "model.save(\"nutrition.h5\")\n",
        "from tensorflow.keras.models import load_model\n",
        "from keras.preprocessing  import image\n",
        "model =load_model(\"nutrition.h5\")\n",
        "import numpy as np\n",
        "from tensorflow.keras.utils import load_img\n",
        "from tensorflow.keras.utils import img_to_array\n",
        "img = load_img(r'/content/drive/MyDrive/IBM/Dataset/TEST_SET/BANANA/0SDJGMK3L63U.jpg', grayscale=False,target_size=(64,64))\n",
        "x = img_to_array(img)\n",
        "x= np.expand_dims(x,axis = 0)\n",
        "predict_x=model.predict(x)\n",
        "classes_x=np.argmax(predict_x,axis = -1)\n",
        "classes_x"
      ],
      "metadata": {
        "id": "dLu6K3WOXSun",
        "colab": {
          "base_uri": "https://localhost:8080/"
        },
        "outputId": "f6fddce6-a063-4e5f-ca72-b69099d161a0"
      },
      "execution_count": 22,
      "outputs": [
        {
          "output_type": "stream",
          "name": "stderr",
          "text": [
            "WARNING:tensorflow:Compiled the loaded model, but the compiled metrics have yet to be built. `model.compile_metrics` will be empty until you train or evaluate the model.\n",
            "WARNING:tensorflow:No training configuration found in the save file, so the model was *not* compiled. Compile it manually.\n"
          ]
        },
        {
          "output_type": "stream",
          "name": "stdout",
          "text": [
            "1/1 [==============================] - 0s 118ms/step\n"
          ]
        },
        {
          "output_type": "execute_result",
          "data": {
            "text/plain": [
              "array([2])"
            ]
          },
          "metadata": {},
          "execution_count": 22
        }
      ]
    },
    {
      "cell_type": "code",
      "source": [
        "index=['APPLES', 'BANANA', 'ORANGE', 'PINEAPPLE', 'WATERMELON']\n",
        "result=str(index[classes_x[0]])\n",
        "result"
      ],
      "metadata": {
        "id": "ePPc8k4uaIm7",
        "colab": {
          "base_uri": "https://localhost:8080/",
          "height": 36
        },
        "outputId": "f179cffc-fd3d-4719-c370-01d0d6bdd83f"
      },
      "execution_count": 25,
      "outputs": [
        {
          "output_type": "execute_result",
          "data": {
            "text/plain": [
              "'ORANGE'"
            ],
            "application/vnd.google.colaboratory.intrinsic+json": {
              "type": "string"
            }
          },
          "metadata": {},
          "execution_count": 25
        }
      ]
    },
    {
      "cell_type": "code",
      "source": [
        "from google.colab import drive\n",
        "drive.mount('/content/drive')"
      ],
      "metadata": {
        "colab": {
          "base_uri": "https://localhost:8080/"
        },
        "id": "Jf6gxUUic5Iu",
        "outputId": "193efe90-ec21-4e99-a369-02589d8def3a"
      },
      "execution_count": 24,
      "outputs": [
        {
          "output_type": "stream",
          "name": "stdout",
          "text": [
            "Drive already mounted at /content/drive; to attempt to forcibly remount, call drive.mount(\"/content/drive\", force_remount=True).\n"
          ]
        }
      ]
    }
  ]
}